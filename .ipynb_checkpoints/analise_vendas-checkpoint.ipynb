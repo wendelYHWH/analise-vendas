{
 "cells": [
  {
   "cell_type": "code",
   "execution_count": 8,
   "id": "57b499ed-4fd0-47df-8d64-5431f11ff038",
   "metadata": {
    "scrolled": true
   },
   "outputs": [
    {
     "name": "stdout",
     "output_type": "stream",
     "text": [
      "                               Order ID  Product  Quantity Ordered  \\\n",
      "0  1681f325-b0d4-4b64-8b70-a959fb59187b  Teclado                 1   \n",
      "1  c2d6baee-72ae-4f77-9836-6dba5fe7048e  Headset                 5   \n",
      "2  c2a2ef22-2953-4aea-9aeb-275361152f2c  Teclado                 4   \n",
      "3  79eb391d-0df8-43e1-8df6-616b03b64ee5   Webcam                 5   \n",
      "4  dc160f56-46ea-4d31-a33b-fc61340c2b06  Headset                 4   \n",
      "\n",
      "   Price Each           Order Date                          Purchase Address  \n",
      "0     2930.64  2025-03-23 17:34:16                 0527 Luke Port, São Paulo  \n",
      "1      305.44  2025-05-12 18:45:44              53682 Gray Fields, São Paulo  \n",
      "2      526.47  2025-05-04 21:33:00  4950 Duncan Passage Suite 450, São Paulo  \n",
      "3     2791.00  2025-04-17 18:00:06              25825 Jordan Rapid, Curitiba  \n",
      "4     2236.22  2025-03-18 21:56:10       291 Tracy Ferry Suite 321, Curitiba  \n",
      "<class 'pandas.core.frame.DataFrame'>\n",
      "RangeIndex: 1000 entries, 0 to 999\n",
      "Data columns (total 6 columns):\n",
      " #   Column            Non-Null Count  Dtype  \n",
      "---  ------            --------------  -----  \n",
      " 0   Order ID          1000 non-null   object \n",
      " 1   Product           1000 non-null   object \n",
      " 2   Quantity Ordered  1000 non-null   int64  \n",
      " 3   Price Each        1000 non-null   float64\n",
      " 4   Order Date        1000 non-null   object \n",
      " 5   Purchase Address  1000 non-null   object \n",
      "dtypes: float64(1), int64(1), object(4)\n",
      "memory usage: 47.0+ KB\n",
      "None\n",
      "Order ID            0\n",
      "Product             0\n",
      "Quantity Ordered    0\n",
      "Price Each          0\n",
      "Order Date          0\n",
      "Purchase Address    0\n",
      "dtype: int64\n"
     ]
    },
    {
     "data": {
      "text/plain": [
       "<function matplotlib.pyplot.show(close=None, block=None)>"
      ]
     },
     "execution_count": 8,
     "metadata": {},
     "output_type": "execute_result"
    },
    {
     "data": {
      "image/png": "[encoded data removed]",
      "text/plain": [
       "<Figure size 1000x600 with 1 Axes>"
      ]
     },
     "metadata": {},
     "output_type": "display_data"
    }
   ],
   "source": [
    "import pandas as pd\n",
    "import matplotlib.pyplot as plt\n",
    "import seaborn as sns\n",
    "\n",
    "#carregando o dataset\n",
    "df = pd.read_csv ('sales_data.csv')\n",
    "\n",
    "#ver as primeiras linhas\n",
    "print(df.head())\n",
    "\n",
    "#info geral\n",
    "print(df.info())\n",
    "\n",
    "#verificar dados ausentes\n",
    "print(df.isnull().sum())\n",
    "\n",
    "#remover linhas com valor nulo \n",
    "df = df.dropna()\n",
    "\n",
    "#conversão de order date p/ date time\n",
    "df['Order Date'] = pd.to_datetime(df['Order Date'])\n",
    "\n",
    "#criação de colunas úteis\n",
    "df['month'] = df['Order Date'].dt.month\n",
    "df['Hour'] = df['Order Date'].dt.hour\n",
    "\n",
    "#criar coluna da receita total\n",
    "df['total'] = df['Quantity Ordered'] * df['Price Each']\n",
    "\n",
    "#PRIMEIRA ANÁLISE VEM A PARTIR DESSE CODIGO!!!!\n",
    "\n",
    "monthly_sales = df.groupby('month')['total'].sum()\n",
    "\n",
    "plt.figure(figsize=(10, 6))\n",
    "sns.barplot(x=monthly_sales.index, y=monthly_sales.values)\n",
    "plt.title('vendas totais por mes')\n",
    "plt.xlabel('mes')\n",
    "plt.ylabel('receita total (R$)')\n",
    "plt.show"
   ]
  },
  {
   "cell_type": "code",
   "execution_count": null,
   "id": "f98ab890-5526-45f2-bf47-6333922b03fe",
   "metadata": {},
   "outputs": [],
   "source": [
    "\n"
   ]
  },
  {
   "cell_type": "code",
   "execution_count": null,
   "id": "3b3582da-170e-499f-8ad7-2df65471999c",
   "metadata": {},
   "outputs": [],
   "source": []
  }
 ],
 "metadata": {
  "kernelspec": {
   "display_name": "Python 3 (ipykernel)",
   "language": "python",
   "name": "python3"
  },
  "language_info": {
   "codemirror_mode": {
    "name": "ipython",
    "version": 3
   },
   "file_extension": ".py",
   "mimetype": "text/x-python",
   "name": "python",
   "nbconvert_exporter": "python",
   "pygments_lexer": "ipython3",
   "version": "3.13.3"
  }
 },
 "nbformat": 4,
 "nbformat_minor": 5
}
